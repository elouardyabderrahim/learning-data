{
 "cells": [
  {
   "cell_type": "markdown",
   "id": "0265f315-bd4e-41ff-9efa-7bd8ebe681f5",
   "metadata": {
    "tags": []
   },
   "source": [
    "# The python Programming Language: Functions"
   ]
  },
  {
   "cell_type": "code",
   "execution_count": 2,
   "id": "eb8ce599-a616-4bdf-bc59-d9984ac63ca8",
   "metadata": {
    "jupyter": {
     "source_hidden": true
    },
    "tags": []
   },
   "outputs": [
    {
     "data": {
      "text/plain": [
       "3"
      ]
     },
     "execution_count": 2,
     "metadata": {},
     "output_type": "execute_result"
    }
   ],
   "source": [
    "x=1\n",
    "y=2\n",
    "x+y"
   ]
  },
  {
   "cell_type": "code",
   "execution_count": 3,
   "id": "ab5b040e-645c-4c65-ba23-164c90ed71f4",
   "metadata": {},
   "outputs": [
    {
     "data": {
      "text/plain": [
       "1"
      ]
     },
     "execution_count": 3,
     "metadata": {},
     "output_type": "execute_result"
    }
   ],
   "source": [
    "x"
   ]
  },
  {
   "cell_type": "code",
   "execution_count": 4,
   "id": "f222e682-1578-4636-886b-7fd0b5e3eadc",
   "metadata": {},
   "outputs": [
    {
     "data": {
      "text/plain": [
       "6"
      ]
     },
     "execution_count": 4,
     "metadata": {},
     "output_type": "execute_result"
    }
   ],
   "source": [
    "def add_numbers(x,y,z):\n",
    "    return x+y+z\n",
    "\n",
    "\n",
    "add_numbers(1,2,3)\n"
   ]
  },
  {
   "cell_type": "code",
   "execution_count": 6,
   "id": "001b0a13-4622-4f6c-ac78-2df68a01c0f0",
   "metadata": {},
   "outputs": [
    {
     "data": {
      "text/plain": [
       "3"
      ]
     },
     "execution_count": 6,
     "metadata": {},
     "output_type": "execute_result"
    }
   ],
   "source": [
    "def add_numbers(x,y,z=None):\n",
    "    if (z==None) :\n",
    "        return x+y\n",
    "    else:\n",
    "        return x+y+z\n",
    "\n",
    "add_numbers(1,2)\n"
   ]
  },
  {
   "cell_type": "markdown",
   "id": "30f0dbb0-27da-4a88-9e7d-a5d4cfb79f91",
   "metadata": {
    "tags": []
   },
   "source": [
    "# The Python Programming Language: Types and Sequences"
   ]
  },
  {
   "cell_type": "code",
   "execution_count": null,
   "id": "965a962d-5eac-4ed1-94d5-b7af38df2e20",
   "metadata": {},
   "outputs": [
    {
     "ename": "",
     "evalue": "",
     "output_type": "error",
     "traceback": [
      "\u001b[1;31mRunning cells with 'Python 3.10.0' requires the ipykernel package.\n",
      "\u001b[1;31mRun the following command to install 'ipykernel' into the Python environment. \n",
      "\u001b[1;31mCommand: 'c:/Users/pc/AppData/Local/Programs/Python/Python310/python.exe -m pip install ipykernel -U --user --force-reinstall'"
     ]
    }
   ],
   "source": [
    "type('This is a string')"
   ]
  },
  {
   "cell_type": "code",
   "execution_count": 8,
   "id": "9fbfd510-ea01-440a-ade0-74a69c8e733b",
   "metadata": {},
   "outputs": [
    {
     "data": {
      "text/plain": [
       "NoneType"
      ]
     },
     "execution_count": 8,
     "metadata": {},
     "output_type": "execute_result"
    }
   ],
   "source": [
    "type(None)"
   ]
  },
  {
   "cell_type": "code",
   "execution_count": 9,
   "id": "c52c0ea5-72b6-4e97-9d44-3235d1d58e5a",
   "metadata": {},
   "outputs": [
    {
     "data": {
      "text/plain": [
       "int"
      ]
     },
     "execution_count": 9,
     "metadata": {},
     "output_type": "execute_result"
    }
   ],
   "source": [
    "type(1)"
   ]
  },
  {
   "cell_type": "code",
   "execution_count": 10,
   "id": "86b6e95b-9394-467a-977f-38f2d8451560",
   "metadata": {},
   "outputs": [
    {
     "data": {
      "text/plain": [
       "float"
      ]
     },
     "execution_count": 10,
     "metadata": {},
     "output_type": "execute_result"
    }
   ],
   "source": [
    "type(1.0)"
   ]
  },
  {
   "cell_type": "code",
   "execution_count": 11,
   "id": "b3e37fec-8d16-4b43-833d-ed6c48022cc8",
   "metadata": {},
   "outputs": [
    {
     "data": {
      "text/plain": [
       "function"
      ]
     },
     "execution_count": 11,
     "metadata": {},
     "output_type": "execute_result"
    }
   ],
   "source": [
    "type(add_numbers)"
   ]
  },
  {
   "cell_type": "markdown",
   "id": "69364252-318d-4925-9aee-cb820dbc16b3",
   "metadata": {},
   "source": [
    "Tuples are an immutable data structure (cannot be altered)."
   ]
  },
  {
   "cell_type": "code",
   "execution_count": 13,
   "id": "6a8b152b-ef15-4a59-b703-b2c314dd9980",
   "metadata": {},
   "outputs": [
    {
     "data": {
      "text/plain": [
       "tuple"
      ]
     },
     "execution_count": 13,
     "metadata": {},
     "output_type": "execute_result"
    }
   ],
   "source": [
    "x=(1,'a',2,'b')\n",
    "type(x)"
   ]
  },
  {
   "cell_type": "markdown",
   "id": "2a2ca8bd-5bc5-44ca-9126-bb15cb327f78",
   "metadata": {},
   "source": [
    "Lists are a mutable data structure."
   ]
  },
  {
   "cell_type": "code",
   "execution_count": 15,
   "id": "21ca5d2a-2b61-4246-be3f-57c18e913935",
   "metadata": {},
   "outputs": [
    {
     "data": {
      "text/plain": [
       "list"
      ]
     },
     "execution_count": 15,
     "metadata": {},
     "output_type": "execute_result"
    }
   ],
   "source": [
    "x = [1, 'a', 2, 'b']\n",
    "type(x)"
   ]
  },
  {
   "cell_type": "code",
   "execution_count": 16,
   "id": "57e7ac28-4bd2-4f5f-bbcd-8e3714f9aa24",
   "metadata": {},
   "outputs": [
    {
     "name": "stdout",
     "output_type": "stream",
     "text": [
      "[1, 'a', 2, 'b', 3.3]\n"
     ]
    }
   ],
   "source": [
    "x.append(3.3)\n",
    "print(x)"
   ]
  },
  {
   "cell_type": "code",
   "execution_count": 17,
   "id": "d94da62d-8128-4bf7-941f-6ec9c3c4492a",
   "metadata": {},
   "outputs": [
    {
     "name": "stdout",
     "output_type": "stream",
     "text": [
      "1\n",
      "a\n",
      "2\n",
      "b\n",
      "3.3\n"
     ]
    }
   ],
   "source": [
    "for item in x:\n",
    "    print(item)"
   ]
  },
  {
   "cell_type": "code",
   "execution_count": 18,
   "id": "5a1bbafd-765e-4631-9e68-bbccfa20ad52",
   "metadata": {},
   "outputs": [
    {
     "name": "stdout",
     "output_type": "stream",
     "text": [
      "1\n",
      "a\n",
      "2\n",
      "b\n",
      "3.3\n"
     ]
    }
   ],
   "source": [
    "# Or using the indexing operator:\n",
    "i = 0\n",
    "while (i != len(x)):\n",
    "    print(x[i])\n",
    "    i = i + 1"
   ]
  },
  {
   "cell_type": "markdown",
   "id": "9f3d5661-eb64-463f-bacb-52eff20d4677",
   "metadata": {},
   "source": [
    "Use `+` to concatenate lists."
   ]
  },
  {
   "cell_type": "code",
   "execution_count": 19,
   "id": "c34f78cd-9e1c-4392-90b6-5c675512dfb9",
   "metadata": {},
   "outputs": [
    {
     "data": {
      "text/plain": [
       "[1, 2, 3, 4]"
      ]
     },
     "execution_count": 19,
     "metadata": {},
     "output_type": "execute_result"
    }
   ],
   "source": [
    "[1, 2] + [3, 4]"
   ]
  },
  {
   "cell_type": "markdown",
   "id": "47915cde-3873-42ea-a880-7a21933d6d6e",
   "metadata": {},
   "source": [
    "Use `*` to repeat lists."
   ]
  },
  {
   "cell_type": "code",
   "execution_count": 20,
   "id": "bbae8912-241b-482f-8119-759c43cdc032",
   "metadata": {},
   "outputs": [
    {
     "data": {
      "text/plain": [
       "[1, 1, 1]"
      ]
     },
     "execution_count": 20,
     "metadata": {},
     "output_type": "execute_result"
    }
   ],
   "source": [
    "[1] * 3"
   ]
  },
  {
   "cell_type": "markdown",
   "id": "b64b9895-8ba5-48a9-9fe8-81344ea32c4a",
   "metadata": {},
   "source": [
    "Use the `in` operator to check if something is inside a list."
   ]
  },
  {
   "cell_type": "code",
   "execution_count": 22,
   "id": "eeb90338-55ef-4e2b-b153-d1b24068f0f7",
   "metadata": {},
   "outputs": [
    {
     "data": {
      "text/plain": [
       "True"
      ]
     },
     "execution_count": 22,
     "metadata": {},
     "output_type": "execute_result"
    }
   ],
   "source": [
    "1 in [1, 2, 3]"
   ]
  },
  {
   "cell_type": "code",
   "execution_count": 4,
   "id": "75995368-6d14-4894-9395-eb8ef956bc2a",
   "metadata": {},
   "outputs": [
    {
     "name": "stdout",
     "output_type": "stream",
     "text": [
      "T\n",
      "T\n",
      "Th\n"
     ]
    }
   ],
   "source": [
    "# Now let's look at strings. Use bracket notation to slice a string.\n",
    "\n",
    "\n",
    "x='This is a string'\n",
    "\n",
    "\n",
    "print(x[0]) #first character \n",
    "print(x[0:1]) ##first character, but we have explicitly set the end character\n",
    "print(x[0:2])   #first two characters\n",
    "\n"
   ]
  },
  {
   "cell_type": "code",
   "execution_count": 10,
   "id": "0448df59-c049-4357-a075-0143f78176cd",
   "metadata": {},
   "outputs": [
    {
     "name": "stdout",
     "output_type": "stream",
     "text": [
      "g\n"
     ]
    },
    {
     "data": {
      "text/plain": [
       "'s is a string'"
      ]
     },
     "execution_count": 10,
     "metadata": {},
     "output_type": "execute_result"
    }
   ],
   "source": [
    "# this will return the last character \n",
    "print(x[-1])\n",
    "\n",
    "# this will start from the fourth element from the end and stop before the second element from the end\n",
    "x[-4:-2]\n",
    "# this is a slace starting from the beginning and stops before the 4 th element of the string 4\n",
    "x[:4]\n",
    "\n",
    "# And this is a slice start from the 4th element and gpoing all the way to the end of the string\n",
    "x[3:]"
   ]
  },
  {
   "cell_type": "code",
   "execution_count": 15,
   "id": "8446ad5e-20c6-4cdd-b7af-e38d6c9bb58c",
   "metadata": {},
   "outputs": [
    {
     "name": "stdout",
     "output_type": "stream",
     "text": [
      "Christopher Brooks\n",
      "ChristopherChristopherChristopher\n",
      "True\n"
     ]
    }
   ],
   "source": [
    "fName= 'Christopher'\n",
    "lName=\"Brooks\"\n",
    "print(fName+' '+lName)\n",
    "print(fName*3)\n",
    "print('Chris' in fName)\n"
   ]
  },
  {
   "cell_type": "markdown",
   "id": "863bd8ed-da84-485a-a26f-62e6d1292ddc",
   "metadata": {},
   "source": [
    "`split` returns a list of all the words in a string, or a list split on a specific character."
   ]
  },
  {
   "cell_type": "code",
   "execution_count": 19,
   "id": "9e47533f-307e-49f3-ab01-bc26d6b3afd9",
   "metadata": {},
   "outputs": [],
   "source": [
    "firstName='Christopher Arthur Hansen Brooks'.split(' ')[0]\n",
    "lastName='Christopher Arthur Hansen Brooks'.split(' ')[-1]"
   ]
  },
  {
   "cell_type": "code",
   "execution_count": 20,
   "id": "a81bffca-48f4-4d9a-8741-f8a6084f71c6",
   "metadata": {},
   "outputs": [
    {
     "name": "stdout",
     "output_type": "stream",
     "text": [
      "Christopher\n",
      "Brooks\n"
     ]
    }
   ],
   "source": [
    "print(firstName)\n",
    "print(lastName)"
   ]
  },
  {
   "cell_type": "code",
   "execution_count": 22,
   "id": "5f3ee54b-f9de-46df-b6b6-992cc83eb701",
   "metadata": {},
   "outputs": [
    {
     "data": {
      "text/plain": [
       "'chris2'"
      ]
     },
     "execution_count": 22,
     "metadata": {},
     "output_type": "execute_result"
    }
   ],
   "source": [
    "# Make sure you convert objects to strings before concatenating.\n",
    "'chris'+str(2)"
   ]
  },
  {
   "cell_type": "code",
   "execution_count": 23,
   "id": "ba320f35-d531-4c9f-883b-02fbb5608f0b",
   "metadata": {},
   "outputs": [
    {
     "data": {
      "text/plain": [
       "'brooksch@umich.edu'"
      ]
     },
     "execution_count": 23,
     "metadata": {},
     "output_type": "execute_result"
    }
   ],
   "source": [
    "x={'Christopher brooks':'brooksch@umich.edu', 'Bill Gates': 'billg@microsoft.com'}\n",
    "x['Christopher brooks']\n"
   ]
  },
  {
   "cell_type": "code",
   "execution_count": 24,
   "id": "16d2ab78-99d7-4a9a-b5c7-de31ebf4510d",
   "metadata": {},
   "outputs": [],
   "source": [
    "x['Kevyn Collins-Thompson'] = None\n",
    "x['Kevyn Collins-Thompson']"
   ]
  },
  {
   "cell_type": "markdown",
   "id": "4e56c24e-ee3a-411b-a741-0a26c9115d7c",
   "metadata": {},
   "source": [
    "Iterate over all of the keys:"
   ]
  },
  {
   "cell_type": "code",
   "execution_count": 27,
   "id": "b1ca0233-9fb6-4d9d-85f7-dabd338c1efa",
   "metadata": {},
   "outputs": [
    {
     "name": "stdout",
     "output_type": "stream",
     "text": [
      "brooksch@umich.edu\n",
      "billg@microsoft.com\n",
      "None\n"
     ]
    }
   ],
   "source": [
    "for i in x:\n",
    "    print(x[i])"
   ]
  },
  {
   "cell_type": "markdown",
   "id": "83259c0a-7106-442c-ac36-538b66dabf76",
   "metadata": {},
   "source": [
    "Iterate over all of the values:"
   ]
  },
  {
   "cell_type": "code",
   "execution_count": 28,
   "id": "9d077c07-bba8-4462-9231-322be2cae926",
   "metadata": {},
   "outputs": [
    {
     "name": "stdout",
     "output_type": "stream",
     "text": [
      "brooksch@umich.edu\n",
      "billg@microsoft.com\n",
      "None\n"
     ]
    }
   ],
   "source": [
    "for value in x.values():\n",
    "    print(value)"
   ]
  },
  {
   "cell_type": "markdown",
   "id": "ef8edd95-bb4a-4051-87a2-620025fc4c72",
   "metadata": {},
   "source": [
    "Iterate over all of the items in the list:"
   ]
  },
  {
   "cell_type": "code",
   "execution_count": 31,
   "id": "e41822df-89a2-4cae-aca7-a5c852242678",
   "metadata": {},
   "outputs": [
    {
     "name": "stdout",
     "output_type": "stream",
     "text": [
      "Christopher brooks ------  brooksch@umich.edu\n",
      "Bill Gates ------  billg@microsoft.com\n",
      "Kevyn Collins-Thompson ------  None\n"
     ]
    }
   ],
   "source": [
    "for name,email in x.items():\n",
    "    print(name,\"------ \",email)"
   ]
  },
  {
   "cell_type": "code",
   "execution_count": 32,
   "id": "0ef5096d-5083-49d8-a42e-e20ec44f205a",
   "metadata": {},
   "outputs": [],
   "source": [
    "# Unpaking \n",
    "# You can unpack a sequence in different  variables :\n",
    "x=('Christopher','Brooks',\"Christopher.brooks@gmail.com\")\n",
    "fname,lname,email=x"
   ]
  },
  {
   "cell_type": "code",
   "execution_count": 37,
   "id": "369903bc-be3c-4dab-93f1-fd9d7e8943b2",
   "metadata": {},
   "outputs": [
    {
     "data": {
      "text/plain": [
       "'Christopher.brooks@gmail.com'"
      ]
     },
     "execution_count": 37,
     "metadata": {},
     "output_type": "execute_result"
    }
   ],
   "source": [
    "fname\n",
    "lname\n",
    "email"
   ]
  },
  {
   "cell_type": "code",
   "execution_count": 38,
   "id": "34d4834f-783a-458b-b88d-bb623193a4fe",
   "metadata": {},
   "outputs": [
    {
     "ename": "ValueError",
     "evalue": "too many values to unpack (expected 3)",
     "output_type": "error",
     "traceback": [
      "\u001b[0;31m---------------------------------------------------------------------------\u001b[0m",
      "\u001b[0;31mValueError\u001b[0m                                Traceback (most recent call last)",
      "Cell \u001b[0;32mIn [38], line 4\u001b[0m\n\u001b[1;32m      1\u001b[0m \u001b[38;5;66;03m# Make sure the number of values you are unpacking matches the number of \u001b[39;00m\n\u001b[1;32m      2\u001b[0m \u001b[38;5;66;03m# variables being assigned.\u001b[39;00m\n\u001b[1;32m      3\u001b[0m x \u001b[38;5;241m=\u001b[39m (\u001b[38;5;124m'\u001b[39m\u001b[38;5;124mChristopher\u001b[39m\u001b[38;5;124m'\u001b[39m, \u001b[38;5;124m'\u001b[39m\u001b[38;5;124mBrooks\u001b[39m\u001b[38;5;124m'\u001b[39m, \u001b[38;5;124m'\u001b[39m\u001b[38;5;124mbrooksch@umich.edu\u001b[39m\u001b[38;5;124m'\u001b[39m, \u001b[38;5;124m'\u001b[39m\u001b[38;5;124mAnn Arbor\u001b[39m\u001b[38;5;124m'\u001b[39m)\n\u001b[0;32m----> 4\u001b[0m fname, lname, email \u001b[38;5;241m=\u001b[39m x\n",
      "\u001b[0;31mValueError\u001b[0m: too many values to unpack (expected 3)"
     ]
    }
   ],
   "source": [
    "# Make sure the number of values you are unpacking matches the number of \n",
    "# variables being assigned.\n",
    "x = ('Christopher', 'Brooks', 'brooksch@umich.edu', 'Ann Arbor')\n",
    "fname, lname, email = x"
   ]
  },
  {
   "cell_type": "markdown",
   "id": "a9571f92-5459-4489-b11f-f70705f619c3",
   "metadata": {},
   "source": [
    "# The Python Programming Language: More on Strings"
   ]
  },
  {
   "cell_type": "code",
   "execution_count": 39,
   "id": "471f158d-03af-4403-8cf4-56996ee89a56",
   "metadata": {},
   "outputs": [
    {
     "ename": "TypeError",
     "evalue": "can only concatenate str (not \"int\") to str",
     "output_type": "error",
     "traceback": [
      "\u001b[0;31m---------------------------------------------------------------------------\u001b[0m",
      "\u001b[0;31mTypeError\u001b[0m                                 Traceback (most recent call last)",
      "Cell \u001b[0;32mIn [39], line 1\u001b[0m\n\u001b[0;32m----> 1\u001b[0m \u001b[38;5;28mprint\u001b[39m(\u001b[38;5;124;43m'\u001b[39;49m\u001b[38;5;124;43mChris\u001b[39;49m\u001b[38;5;124;43m'\u001b[39;49m\u001b[43m \u001b[49m\u001b[38;5;241;43m+\u001b[39;49m\u001b[38;5;241;43m2\u001b[39;49m)\n",
      "\u001b[0;31mTypeError\u001b[0m: can only concatenate str (not \"int\") to str"
     ]
    }
   ],
   "source": [
    "print('Chris' +2)"
   ]
  },
  {
   "cell_type": "code",
   "execution_count": 40,
   "id": "eb62d188-ac64-4856-9af9-e154b8512f24",
   "metadata": {},
   "outputs": [
    {
     "name": "stdout",
     "output_type": "stream",
     "text": [
      "Chris2\n"
     ]
    }
   ],
   "source": [
    "print('Chris' +str(2))"
   ]
  },
  {
   "cell_type": "code",
   "execution_count": 47,
   "id": "8309de57-11cb-40b1-a9bf-f8f205d71647",
   "metadata": {},
   "outputs": [
    {
     "name": "stdout",
     "output_type": "stream",
     "text": [
      "Chris bought 44 item(s) at a price of 3.24 each for a total of 142.56 dh\n"
     ]
    }
   ],
   "source": [
    "sales_record={\n",
    "\"price\":3.24,\n",
    "    'num_items':44,\n",
    "    'person':'Chris'}\n",
    "\n",
    "\n",
    "sales_statement='{} bought {} item(s) at a price of {} each for a total of {} dh'\n",
    "\n",
    "print(sales_statement.format(sales_record['person'],\n",
    "                            sales_record['num_items'],\n",
    "                             sales_record['price'],\n",
    "                             sales_record['price']*sales_record['num_items']\n",
    "                            ))"
   ]
  },
  {
   "cell_type": "markdown",
   "id": "0576f7bd",
   "metadata": {},
   "source": [
    "# The Python Programming Language: Date and time"
   ]
  },
  {
   "cell_type": "code",
   "execution_count": 5,
   "id": "41a0752d",
   "metadata": {},
   "outputs": [],
   "source": [
    "import datetime as dt\n",
    "import time as tm"
   ]
  },
  {
   "cell_type": "code",
   "execution_count": 4,
   "id": "3d5aba8b",
   "metadata": {},
   "outputs": [
    {
     "data": {
      "text/plain": [
       "1718191839.1242046"
      ]
     },
     "execution_count": 4,
     "metadata": {},
     "output_type": "execute_result"
    }
   ],
   "source": [
    "# return the number of seconds since the EPOCH : 1er janvier 1970\n",
    "\n",
    "tm.time()"
   ]
  },
  {
   "cell_type": "code",
   "execution_count": 9,
   "id": "611ed94d",
   "metadata": {},
   "outputs": [
    {
     "data": {
      "text/plain": [
       "datetime.datetime(2024, 6, 12, 12, 36, 21, 26393)"
      ]
     },
     "execution_count": 9,
     "metadata": {},
     "output_type": "execute_result"
    }
   ],
   "source": [
    "\n",
    "dtnow=dt.datetime.fromtimestamp(tm.time())\n",
    "dtnow"
   ]
  },
  {
   "cell_type": "code",
   "execution_count": 16,
   "id": "f115f5d3",
   "metadata": {},
   "outputs": [
    {
     "data": {
      "text/plain": [
       "(2024, 6, 12, 12, 36, 21)"
      ]
     },
     "execution_count": 16,
     "metadata": {},
     "output_type": "execute_result"
    }
   ],
   "source": [
    "# that's a tuple\n",
    "dtnow.year,dtnow.month,dtnow.day,dtnow.hour,dtnow.minute,dtnow.second"
   ]
  },
  {
   "cell_type": "code",
   "execution_count": 17,
   "id": "61ac34b5",
   "metadata": {},
   "outputs": [
    {
     "data": {
      "text/plain": [
       "datetime.timedelta(days=100)"
      ]
     },
     "execution_count": 17,
     "metadata": {},
     "output_type": "execute_result"
    }
   ],
   "source": [
    "delta = dt.timedelta(days=100)\n",
    "delta"
   ]
  },
  {
   "cell_type": "code",
   "execution_count": 18,
   "id": "33730323",
   "metadata": {},
   "outputs": [],
   "source": [
    "today= dt.date.today()"
   ]
  },
  {
   "cell_type": "code",
   "execution_count": 19,
   "id": "832afd53",
   "metadata": {},
   "outputs": [
    {
     "data": {
      "text/plain": [
       "datetime.date(2024, 3, 4)"
      ]
     },
     "execution_count": 19,
     "metadata": {},
     "output_type": "execute_result"
    }
   ],
   "source": [
    "today-delta"
   ]
  },
  {
   "cell_type": "code",
   "execution_count": 23,
   "id": "033c92a7",
   "metadata": {},
   "outputs": [
    {
     "data": {
      "text/plain": [
       "True"
      ]
     },
     "execution_count": 23,
     "metadata": {},
     "output_type": "execute_result"
    }
   ],
   "source": [
    "today > (today-delta)"
   ]
  },
  {
   "cell_type": "markdown",
   "id": "d7895a26",
   "metadata": {},
   "source": [
    "# The Python Programming Language: Objects and map()"
   ]
  },
  {
   "cell_type": "code",
   "execution_count": 26,
   "id": "7ac8d43c",
   "metadata": {},
   "outputs": [],
   "source": [
    "class Person:\n",
    "    departement=\"School of code\"\n",
    "    def set_name(self,new_name):\n",
    "        self.name=new_name\n",
    "\n",
    "    def set_location(self,new_location):\n",
    "        self.location=new_location"
   ]
  },
  {
   "cell_type": "code",
   "execution_count": 27,
   "id": "4279bea9",
   "metadata": {},
   "outputs": [],
   "source": [
    "person=Person()\n",
    "person.set_location(\"My home\")\n",
    "person.set_name(\"abderahim elouady\")"
   ]
  },
  {
   "cell_type": "code",
   "execution_count": 29,
   "id": "0453113d",
   "metadata": {},
   "outputs": [
    {
     "name": "stdout",
     "output_type": "stream",
     "text": [
      "i live in My home ,my name is abderahim elouady and i work in School of code1.\n"
     ]
    }
   ],
   "source": [
    "print(\"i live in {} ,my name is {} and i work in {}1.\".format(person.location,person.name,person.departement))"
   ]
  },
  {
   "cell_type": "markdown",
   "id": "e5079f47",
   "metadata": {},
   "source": [
    "Here's an example of mapping the `min` function between two lists."
   ]
  },
  {
   "cell_type": "code",
   "execution_count": 3,
   "id": "2bc5496d",
   "metadata": {},
   "outputs": [
    {
     "data": {
      "text/plain": [
       "map"
      ]
     },
     "execution_count": 3,
     "metadata": {},
     "output_type": "execute_result"
    }
   ],
   "source": [
    "store1 = [10.00, 11.00, 12.34, 2.34]\n",
    "store2 = [9.00, 11.10, 12.34, 2.01]\n",
    "\n",
    "cheapest=map(min,store1,store2)\n",
    "cheapest\n",
    "# leazy evaluation"
   ]
  },
  {
   "cell_type": "code",
   "execution_count": 8,
   "id": "120de28f",
   "metadata": {},
   "outputs": [
    {
     "name": "stdout",
     "output_type": "stream",
     "text": [
      "9.0\n",
      "11.0\n",
      "12.34\n",
      "2.01\n"
     ]
    }
   ],
   "source": [
    "for i in cheapest:\n",
    "    print(i)"
   ]
  },
  {
   "cell_type": "markdown",
   "id": "676df5ca",
   "metadata": {},
   "source": [
    " when we go to print out the map, we see that we get an odd reference value instead of a list of items that we're expecting. This is called lazy evaluation. In Python, the map function returns to you a map object. It doesn't actually try and run the function min on two items, until you look inside for a value. This is an interesting design pattern of the language, and it's commonly used when dealing with big data."
   ]
  },
  {
   "cell_type": "code",
   "execution_count": 7,
   "id": "f18f4a31",
   "metadata": {},
   "outputs": [
    {
     "data": {
      "text/plain": [
       "['Dr. Brooks', 'Dr. Collins-Thompson', 'Dr. Vydiswaran', 'Dr. Romero']"
      ]
     },
     "execution_count": 7,
     "metadata": {},
     "output_type": "execute_result"
    }
   ],
   "source": [
    "people = ['Dr. Christopher Brooks', 'Dr. Kevyn Collins-Thompson', 'Dr. VG Vinod Vydiswaran', 'Dr. Daniel Romero']\n",
    "\n",
    "\n",
    "# my solution\n",
    "# def split_title_and_name(person):\n",
    "#     return person.split(' ')[0] + person.split(' ')[2]\n",
    "# # its better to put -1 in the split cz in some times the nume is composed of more than two\n",
    "# return person.split(' ')[0] + person.split(' ')[-1]\n",
    "\n",
    "# there solution\n",
    "def split_title_and_name(person):\n",
    "    title = person.split()[0]\n",
    "    lastname = person.split()[-1]\n",
    "    return '{} {}'.format(title, lastname)\n",
    "\n",
    "list(map(split_title_and_name,people))"
   ]
  },
  {
   "cell_type": "markdown",
   "id": "f8fff216",
   "metadata": {},
   "source": [
    "# The Python Programming Language: Lambda and List Comprehensions"
   ]
  },
  {
   "cell_type": "code",
   "execution_count": 3,
   "id": "64b4850e",
   "metadata": {},
   "outputs": [
    {
     "data": {
      "text/plain": [
       "3"
      ]
     },
     "execution_count": 3,
     "metadata": {},
     "output_type": "execute_result"
    }
   ],
   "source": [
    "myfunction=lambda a,b:a+b\n",
    "myfunction(1,2)"
   ]
  },
  {
   "cell_type": "code",
   "execution_count": 7,
   "id": "b5daf6ae",
   "metadata": {},
   "outputs": [
    {
     "name": "stdout",
     "output_type": "stream",
     "text": [
      "True\n",
      "True\n",
      "True\n",
      "True\n",
      "True\n"
     ]
    }
   ],
   "source": [
    "people = ['Dr. Christopher Brooks', 'Dr. Kevyn Collins-Thompson', 'Dr. VG Vinod Vydiswaran', 'Dr. Daniel Romero']\n",
    "\n",
    "def split_title_and_name(person):\n",
    "    return person.split()[0] + ' ' + person.split()[-1]\n",
    "\n",
    "# Option 1\n",
    "for person in people:\n",
    "    print(split_title_and_name(person) == (lambda p: p.split()[0] + ' ' + p.split()[-1])(person))\n",
    "\n",
    "# Option 2\n",
    "print(list(map(split_title_and_name, people)) == list(map(lambda p: p.split()[0] + ' ' + p.split()[-1], people)))\n"
   ]
  },
  {
   "cell_type": "markdown",
   "id": "9f0a8678",
   "metadata": {},
   "source": [
    "Option 1:\n",
    "\n",
    "The for loop iterates over each person in the people list.\n",
    "The split_title_and_name(person) function call is compared to the lambda function lambda p: p.split()[0] + ' ' + p.split()[-1](person).\n",
    "The lambda function takes the same person input and returns the same output as split_title_and_name.\n",
    "The corrected comparison ensures each iteration prints True if the function and lambda produce the same result.\n",
    "\n",
    "Option 2:\n",
    "\n",
    "The map function applies split_title_and_name to each item in the people list.\n",
    "Similarly, map applies the lambda function to each item in the people list.\n",
    "The comparison checks if both lists produced by map are equal."
   ]
  }
 ],
 "metadata": {
  "kernelspec": {
   "display_name": "Python 3 (ipykernel)",
   "language": "python",
   "name": "python3"
  },
  "language_info": {
   "codemirror_mode": {
    "name": "ipython",
    "version": 3
   },
   "file_extension": ".py",
   "mimetype": "text/x-python",
   "name": "python",
   "nbconvert_exporter": "python",
   "pygments_lexer": "ipython3",
   "version": "3.10.0"
  }
 },
 "nbformat": 4,
 "nbformat_minor": 5
}
