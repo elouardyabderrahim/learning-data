{
 "cells": [
  {
   "cell_type": "code",
   "execution_count": null,
   "metadata": {},
   "outputs": [],
   "source": [
    "# pip install pandas seaborn scipy"
   ]
  },
  {
   "cell_type": "code",
   "execution_count": 2,
   "metadata": {},
   "outputs": [],
   "source": [
    "import pandas as pd"
   ]
  },
  {
   "cell_type": "code",
   "execution_count": 4,
   "metadata": {},
   "outputs": [
    {
     "name": "stdout",
     "output_type": "stream",
     "text": [
      "                SalesAmount\n",
      "Product1 North          200\n",
      "         South          150\n",
      "Product2 North          300\n",
      "         South          400\n"
     ]
    },
    {
     "name": "stderr",
     "output_type": "stream",
     "text": [
      "/tmp/ipykernel_23097/1638998934.py:8: FutureWarning: The previous implementation of stack is deprecated and will be removed in a future version of pandas. See the What's New notes for pandas 2.1.0 for details. Specify future_stack=True to adopt the new implementation and silence this warning.\n",
      "  df_stacked = df_multi.stack()\n"
     ]
    }
   ],
   "source": [
    "# Sample DataFrame with multi-level columns\n",
    "df_multi = pd.DataFrame({\n",
    "    ('SalesAmount', 'North'): [200, 300],\n",
    "    ('SalesAmount', 'South'): [150, 400]\n",
    "}, index=['Product1', 'Product2'])\n",
    "\n",
    "# Stack the DataFrame\n",
    "df_stacked = df_multi.stack()\n",
    "print(df_stacked)\n",
    "#print(df_multi)"
   ]
  },
  {
   "cell_type": "markdown",
   "metadata": {},
   "source": [
    "### Handling Outliers\n",
    "\n",
    "Outliers are data points that significantly deviate from the rest of the dataset. They can be caused by data entry errors, anomalies, or genuine variability. It’s important to handle outliers appropriately, as they can skew results and affect the performance of models.\n",
    "\n",
    "Detecting Outliers with Box Plots\n",
    "\n",
    "As discussed earlier, box plots are effective for detecting outliers. Points that fall outside 1.5 times the interquartile range (IQR) are considered outliers."
   ]
  },
  {
   "cell_type": "code",
   "execution_count": 7,
   "metadata": {},
   "outputs": [
    {
     "data": {
      "text/plain": [
       "<Axes: xlabel='SalesAmount'>"
      ]
     },
     "execution_count": 7,
     "metadata": {},
     "output_type": "execute_result"
    },
    {
     "data": {
      "image/png": "[encoded data removed]",
      "text/plain": [
       "<Figure size 640x480 with 1 Axes>"
      ]
     },
     "metadata": {},
     "output_type": "display_data"
    }
   ],
   "source": [
    "import seaborn as sns\n",
    "\n",
    "# Sample DataFrame\n",
    "data = {'SalesAmount': [200, 150, 400, 300, 250, 350, 450, 500, 1000]}\n",
    "df = pd.DataFrame(data)\n",
    "\n",
    "# Box plot to detect outliers\n",
    "sns.boxplot(x=df['SalesAmount'])\n"
   ]
  },
  {
   "cell_type": "markdown",
   "metadata": {},
   "source": [
    "### Detecting Outliers with Z-Scores\n",
    "\n",
    "A Z-score represents how many standard deviations a data point is from the mean. A Z-score greater than 3 or less than -3 typically indicates an outlier.\n"
   ]
  },
  {
   "cell_type": "code",
   "execution_count": 8,
   "metadata": {},
   "outputs": [
    {
     "name": "stdout",
     "output_type": "stream",
     "text": [
      "Empty DataFrame\n",
      "Columns: [SalesAmount, Z_Score]\n",
      "Index: []\n"
     ]
    }
   ],
   "source": [
    "\n",
    "from scipy import stats\n",
    "\n",
    "# Calculate Z-scores\n",
    "df['Z_Score'] = stats.zscore(df['SalesAmount'])\n",
    "\n",
    "# Filter out outliers (Z-score > 3 or < -3)\n",
    "df_outliers = df[(df['Z_Score'] > 3) | (df['Z_Score'] < -3)]\n",
    "print(df_outliers)\n"
   ]
  },
  {
   "cell_type": "code",
   "execution_count": 9,
   "metadata": {},
   "outputs": [],
   "source": [
    "# Handling Outliers\n",
    "\n",
    "# After detecting outliers, you can decide whether to:\n",
    "\n",
    "# Remove outliers: If the outliers are likely to distort the analysis and are not meaningful.\n",
    "\n",
    "# Remove outliers from the dataset\n",
    "df_cleaned = df[(df['Z_Score'] <= 3) & (df['Z_Score'] >= -3)]\n",
    "# Cap or clip outliers: Replace outliers with a threshold value.\n",
    "\n",
    "# Cap the values at 99th percentile\n",
    "threshold = df['SalesAmount'].quantile(0.99)\n",
    "df['SalesAmount'] = df['SalesAmount'].apply(lambda x: min(x, threshold))"
   ]
  },
  {
   "cell_type": "markdown",
   "metadata": {},
   "source": [
    "### Normalizing and Transforming Data\n",
    "\n",
    "For numerical data, normalization or scaling is often necessary before analysis or modeling, especially when the data has different units or ranges.\n",
    "\n",
    "Min-Max Scaling\n",
    "\n",
    "Min-max scaling transforms the data to a range between 0 and 1."
   ]
  },
  {
   "cell_type": "code",
   "execution_count": null,
   "metadata": {},
   "outputs": [],
   "source": [
    "\n",
    "\n",
    "from sklearn.preprocessing import MinMaxScaler\n",
    "\n",
    "scaler = MinMaxScaler()\n",
    "df[['SalesAmount']] = scaler.fit_transform(df[['SalesAmount']])\n",
    "print(df)\n"
   ]
  },
  {
   "cell_type": "markdown",
   "metadata": {},
   "source": [
    "Log Transformation\n",
    "\n",
    "Log transformation is useful for handling data with a long tail or skewed distribution.\n"
   ]
  },
  {
   "cell_type": "code",
   "execution_count": null,
   "metadata": {},
   "outputs": [],
   "source": [
    "\n",
    "# Apply log transformation\n",
    "df['LogSalesAmount'] = np.log(df['SalesAmount'] + 1)"
   ]
  },
  {
   "cell_type": "markdown",
   "metadata": {},
   "source": [
    "### Handling Missing Time Data\n",
    "\n",
    "Time series data often has missing time periods, which can affect your analysis. You can handle these gaps by either filling the missing values or using interpolation techniques.\n",
    "\n",
    "Filling Missing Time Periods\n",
    "\n",
    "The asfreq() function is used to convert the DataFrame to a specified frequency, filling in any missing time periods with NaN. Assuming that we are using the same dataframe from the previous section:\n"
   ]
  },
  {
   "cell_type": "code",
   "execution_count": null,
   "metadata": {},
   "outputs": [],
   "source": [
    "\n",
    "# Convert to daily frequency and fill missing dates\n",
    "df_filled = df.asfreq('D')\n",
    "print(df_filled)"
   ]
  },
  {
   "cell_type": "code",
   "execution_count": null,
   "metadata": {},
   "outputs": [],
   "source": [
    "# Interpolating Missing Data\n",
    "\n",
    "# You can interpolate missing data based on the known values before and after the gaps.\n",
    "\n",
    "# Interpolate missing values in the SalesAmount column\n",
    "df_interpolated = df_filled.interpolate()\n",
    "print(df_interpolated)"
   ]
  }
 ],
 "metadata": {
  "kernelspec": {
   "display_name": ".venv",
   "language": "python",
   "name": "python3"
  },
  "language_info": {
   "codemirror_mode": {
    "name": "ipython",
    "version": 3
   },
   "file_extension": ".py",
   "mimetype": "text/x-python",
   "name": "python",
   "nbconvert_exporter": "python",
   "pygments_lexer": "ipython3",
   "version": "3.12.0"
  }
 },
 "nbformat": 4,
 "nbformat_minor": 2
}
